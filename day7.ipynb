{
 "cells": [
  {
   "cell_type": "code",
   "execution_count": 4,
   "metadata": {},
   "outputs": [
    {
     "name": "stdout",
     "output_type": "stream",
     "text": [
      "Any 2 are equal\n"
     ]
    }
   ],
   "source": [
    "n=int(input(\"Enter 1st number: \"))\n",
    "m=int(input(\"Enter 2nd number: \"))\n",
    "o=int(input(\"Enter 3rd number: \"))\n",
    "if n==m and m==o:\n",
    "    print(\"All are equal\")\n",
    "elif n==m or m==o or o==n:\n",
    "    print(\"Any 2 are equal\")\n",
    "else:\n",
    "    print(\"All are different\")"
   ]
  },
  {
   "cell_type": "code",
   "execution_count": 7,
   "metadata": {},
   "outputs": [],
   "source": [
    "n=int(input(\"Enter 1st number: \"))\n",
    "m=int(input(\"Enter 2nd number: \"))\n",
    "if m>n:\n",
    "    print(f\"{m} is greater\")\n",
    "elif n>m:\n",
    "    print(f\"{n} is greater\")\n",
    "else:\n",
    "    print(\"Both are equal\")\n"
   ]
  },
  {
   "cell_type": "code",
   "execution_count": 11,
   "metadata": {},
   "outputs": [
    {
     "name": "stdout",
     "output_type": "stream",
     "text": [
      "Good Morning Sir\n"
     ]
    }
   ],
   "source": [
    "n=input(\"Please tell ur gender as M or F:\")\n",
    "if n==\"M\" or n==\"m\":\n",
    "    print(\"Good Morning Sir\")\n",
    "elif n==\"F\" or n==\"f\":\n",
    "    print(\"Good Morning Mam\")\n",
    "else:\n",
    "    print(\"Apna gender decide karo\")\n",
    "\n"
   ]
  },
  {
   "cell_type": "code",
   "execution_count": 12,
   "metadata": {},
   "outputs": [
    {
     "name": "stdout",
     "output_type": "stream",
     "text": [
      "Even\n"
     ]
    }
   ],
   "source": [
    "n=int(input(\"Enter a number: \"))\n",
    "if n%2==0:\n",
    "    print(\"Even\")\n",
    "else:\n",
    "    print(\"Odd\")"
   ]
  },
  {
   "cell_type": "code",
   "execution_count": 14,
   "metadata": {},
   "outputs": [
    {
     "name": "stdout",
     "output_type": "stream",
     "text": [
      " Welcome Pranjal you are eligible to vote\n"
     ]
    }
   ],
   "source": [
    "n=input(\"Please tell ur name: \")\n",
    "age=int(input(\"Please tell ur age: \"))\n",
    "if age>=18:\n",
    "    print(f\" Welcome {n} you are eligible to vote\")\n",
    "elif age<18:\n",
    "    print(f\" Sorry {n} you are not eligible to vote\")\n",
    "    print(f\" After {18-age} years you will be eligible to vote\")"
   ]
  },
  {
   "cell_type": "code",
   "execution_count": 18,
   "metadata": {},
   "outputs": [
    {
     "name": "stdout",
     "output_type": "stream",
     "text": [
      "Leap year\n"
     ]
    }
   ],
   "source": [
    "year=int(input(\"Enter a year: \"))\n",
    "if year%400==0 and year%100==0:\n",
    "    print(\"Leap year\")\n",
    "elif year%4==0 and year%100!=0:\n",
    "    print(\"Leap year\")\n",
    "else:\n",
    "    print(\"Not a leap year\")"
   ]
  }
 ],
 "metadata": {
  "kernelspec": {
   "display_name": "Python 3",
   "language": "python",
   "name": "python3"
  },
  "language_info": {
   "codemirror_mode": {
    "name": "ipython",
    "version": 3
   },
   "file_extension": ".py",
   "mimetype": "text/x-python",
   "name": "python",
   "nbconvert_exporter": "python",
   "pygments_lexer": "ipython3",
   "version": "3.11.3"
  },
  "orig_nbformat": 4
 },
 "nbformat": 4,
 "nbformat_minor": 2
}
