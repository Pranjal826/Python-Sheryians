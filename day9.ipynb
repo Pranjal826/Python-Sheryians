{
 "cells": [
  {
   "cell_type": "code",
   "execution_count": null,
   "metadata": {},
   "outputs": [],
   "source": [
    "a=7\n",
    "count=0\n",
    "for i in range(1,a+1):\n",
    "    if a%i==0:\n",
    "        count+=1\n",
    "if count==2:\n",
    "    print(\"prime number\")\n",
    "\n",
    "else:\n",
    "    print(\"Composite number\")"
   ]
  },
  {
   "cell_type": "code",
   "execution_count": 12,
   "metadata": {},
   "outputs": [
    {
     "name": "stdout",
     "output_type": "stream",
     "text": [
      "Not palindromic\n",
      "474747\n"
     ]
    }
   ],
   "source": [
    "n=int(input(\"Enter number\"))\n",
    "copy=n\n",
    "rev=0\n",
    "while n>0:\n",
    "    rev=rev*10+n%10\n",
    "    n=n//10\n",
    "if(rev==copy):\n",
    "        print(\"Palindromic\")\n",
    "else:\n",
    "        print(\"Not palindromic\")\n",
    "print(rev)"
   ]
  },
  {
   "cell_type": "code",
   "execution_count": null,
   "metadata": {},
   "outputs": [],
   "source": []
  }
 ],
 "metadata": {
  "kernelspec": {
   "display_name": "Python 3",
   "language": "python",
   "name": "python3"
  },
  "language_info": {
   "codemirror_mode": {
    "name": "ipython",
    "version": 3
   },
   "file_extension": ".py",
   "mimetype": "text/x-python",
   "name": "python",
   "nbconvert_exporter": "python",
   "pygments_lexer": "ipython3",
   "version": "3.11.3"
  },
  "orig_nbformat": 4
 },
 "nbformat": 4,
 "nbformat_minor": 2
}
