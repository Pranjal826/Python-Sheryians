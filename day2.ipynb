{
 "cells": [
  {
   "cell_type": "code",
   "execution_count": 15,
   "metadata": {},
   "outputs": [
    {
     "name": "stdout",
     "output_type": "stream",
     "text": [
      "http:\\\\localhost\\tab\\new\n",
      "john \"doe\" \n"
     ]
    }
   ],
   "source": [
    "#Escape Sequence\n",
    "#Raw String\n",
    "#formatted String\n",
    "s='http:\\\\\\localhost\\\\tab\\\\new'\n",
    "print(s)\n",
    "print(\"john \\\"doe\\\" \")"
   ]
  },
  {
   "cell_type": "code",
   "execution_count": 16,
   "metadata": {},
   "outputs": [
    {
     "name": "stdout",
     "output_type": "stream",
     "text": [
      "http:\\\\localhost\\tab\\new\\b\n"
     ]
    }
   ],
   "source": [
    "s='http:\\\\\\localhost\\\\tab\\\\new\\\\b'\n",
    "print(s)"
   ]
  },
  {
   "cell_type": "code",
   "execution_count": 17,
   "metadata": {},
   "outputs": [
    {
     "name": "stdout",
     "output_type": "stream",
     "text": [
      "http:\\\\localhost\\tab\\\\new\n"
     ]
    }
   ],
   "source": [
    "#raw string\n",
    "s=r'http:\\\\localhost\\tab\\\\new'\n",
    "print(s)"
   ]
  },
  {
   "cell_type": "code",
   "execution_count": 5,
   "metadata": {},
   "outputs": [
    {
     "name": "stdout",
     "output_type": "stream",
     "text": [
      "My name is Pranjal Shukla, and My age is 20 years old and I live in Bhopal.\n"
     ]
    }
   ],
   "source": [
    "#formated string\n",
    "firstname=\"Pranjal\"\n",
    "lastname=\"Shukla\"\n",
    "age=20\n",
    "city=\"Bhopal\"\n",
    "# print(\"My name is \"+firstname+\" \"+lastname+\", and My age is \"+str(age)+\" years old and I live in \"+city+\".\") \n",
    "# My name is Pranjal Shukla and I am 20 years old. I live in Bhopal\n",
    "print(f\"My name is {firstname} {lastname}, and My age is {age} years old and I live in {city}.\")"
   ]
  },
  {
   "cell_type": "code",
   "execution_count": 17,
   "metadata": {},
   "outputs": [
    {
     "name": "stdout",
     "output_type": "stream",
     "text": [
      "Hello\\World\n"
     ]
    }
   ],
   "source": [
    "#true colors of output method --print\n",
    "print(\"Hello\" , end=\" \")\n",
    "print(\"World\")"
   ]
  },
  {
   "cell_type": "code",
   "execution_count": 28,
   "metadata": {},
   "outputs": [
    {
     "name": "stdout",
     "output_type": "stream",
     "text": [
      "John*Doe\n",
      "-!Hello\n"
     ]
    }
   ],
   "source": [
    "print(\"John\",\"Doe\\n\",sep=\"*\", end=\"-\")\n",
    "print(\"!Hello\")"
   ]
  }
 ],
 "metadata": {
  "kernelspec": {
   "display_name": "Python 3",
   "language": "python",
   "name": "python3"
  },
  "language_info": {
   "codemirror_mode": {
    "name": "ipython",
    "version": 3
   },
   "file_extension": ".py",
   "mimetype": "text/x-python",
   "name": "python",
   "nbconvert_exporter": "python",
   "pygments_lexer": "ipython3",
   "version": "3.11.3"
  },
  "orig_nbformat": 4
 },
 "nbformat": 4,
 "nbformat_minor": 2
}
