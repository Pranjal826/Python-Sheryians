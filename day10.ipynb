{
 "cells": [
  {
   "cell_type": "code",
   "execution_count": 2,
   "metadata": {},
   "outputs": [
    {
     "name": "stdout",
     "output_type": "stream",
     "text": [
      "sonimoD\n",
      "7\n",
      "DOMINOS\n",
      "dominos\n",
      "Dominos\n"
     ]
    }
   ],
   "source": [
    "# Reverse string, string lowercase,string uppercase, copy to another string\n",
    "n=\"Dominos\"\n",
    "print(n[::-1])\n",
    "print(len(n))\n",
    "print(n.upper())\n",
    "print(n.lower())\n",
    "b=n\n",
    "print(b)"
   ]
  },
  {
   "cell_type": "code",
   "execution_count": 8,
   "metadata": {},
   "outputs": [
    {
     "name": "stdout",
     "output_type": "stream",
     "text": [
      "D\n",
      "omisDNO\n"
     ]
    }
   ],
   "source": [
    "a=\"DomiNOs\"\n",
    "print(n[0])\n",
    "up=''\n",
    "lo=''\n",
    "for i in a:\n",
    "    if i.isupper():\n",
    "        up=up+i\n",
    "    else:\n",
    "        lo=lo+i\n",
    "print(lo+up)"
   ]
  },
  {
   "cell_type": "code",
   "execution_count": 15,
   "metadata": {},
   "outputs": [
    {
     "name": "stdout",
     "output_type": "stream",
     "text": [
      "special=4,num=4,alpha=0\n"
     ]
    }
   ],
   "source": [
    "str1=\"1234\"\n",
    "count_num=0\n",
    "count_sp=0\n",
    "count_alpha=0\n",
    "for i in str1:\n",
    "    if i.isnumeric():\n",
    "        count_num+=1\n",
    "    if i.isalpha():\n",
    "        count_alpha+=1\n",
    "    else:\n",
    "        count_sp+=1\n",
    "print(f\"special={count_sp},num={count_num},alpha={count_alpha}\")\n",
    "\n"
   ]
  },
  {
   "cell_type": "code",
   "execution_count": 28,
   "metadata": {},
   "outputs": [
    {
     "name": "stdout",
     "output_type": "stream",
     "text": [
      "Equal\n"
     ]
    }
   ],
   "source": [
    "#Compare two strings withput using inbuilt variables\n",
    "a=\"Pranjal\"\n",
    "b=\"Pranjal\"\n",
    "if len(a)!=len(b):\n",
    "    print(\"Not equal\")\n",
    "else:   \n",
    "    flag=True\n",
    "    for i in range(0,len(a)):\n",
    "        if a[i]==b[i]:\n",
    "        \n",
    "            continue\n",
    "        else:\n",
    "            print(\"Not equal\")\n",
    "            flag=False\n",
    "            break\n",
    "    if flag==True:\n",
    "        print(\"Equal\")"
   ]
  }
 ],
 "metadata": {
  "kernelspec": {
   "display_name": "Python 3",
   "language": "python",
   "name": "python3"
  },
  "language_info": {
   "codemirror_mode": {
    "name": "ipython",
    "version": 3
   },
   "file_extension": ".py",
   "mimetype": "text/x-python",
   "name": "python",
   "nbconvert_exporter": "python",
   "pygments_lexer": "ipython3",
   "version": "3.11.3"
  },
  "orig_nbformat": 4
 },
 "nbformat": 4,
 "nbformat_minor": 2
}
