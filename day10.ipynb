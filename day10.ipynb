{
 "cells": [
  {
   "cell_type": "code",
   "execution_count": 2,
   "metadata": {},
   "outputs": [
    {
     "name": "stdout",
     "output_type": "stream",
     "text": [
      "sonimoD\n",
      "7\n",
      "DOMINOS\n",
      "dominos\n",
      "Dominos\n"
     ]
    }
   ],
   "source": [
    "# Reverse string, string lowercase,string uppercase, copy to another string\n",
    "n=\"Dominos\"\n",
    "print(n[::-1])\n",
    "print(len(n))\n",
    "print(n.upper())\n",
    "print(n.lower())\n",
    "b=n\n",
    "print(b)"
   ]
  },
  {
   "cell_type": "code",
   "execution_count": 6,
   "metadata": {},
   "outputs": [
    {
     "name": "stdout",
     "output_type": "stream",
     "text": [
      "D\n",
      "ello orld\n"
     ]
    }
   ],
   "source": [
    "a=\"Hello World\"\n",
    "print(n[0])\n",
    "up=''\n",
    "lo=''\n",
    "for i in a:\n",
    "    if i.isupper():\n",
    "        up=up+i\n",
    "    else:\n",
    "        lo=lo+i\n",
    "print(lo)"
   ]
  }
 ],
 "metadata": {
  "kernelspec": {
   "display_name": "Python 3",
   "language": "python",
   "name": "python3"
  },
  "language_info": {
   "codemirror_mode": {
    "name": "ipython",
    "version": 3
   },
   "file_extension": ".py",
   "mimetype": "text/x-python",
   "name": "python",
   "nbconvert_exporter": "python",
   "pygments_lexer": "ipython3",
   "version": "3.11.3"
  },
  "orig_nbformat": 4
 },
 "nbformat": 4,
 "nbformat_minor": 2
}
