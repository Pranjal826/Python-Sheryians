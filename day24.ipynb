{
 "cells": [
  {
   "cell_type": "code",
   "execution_count": 1,
   "metadata": {},
   "outputs": [
    {
     "name": "stdout",
     "output_type": "stream",
     "text": [
      "Your mean is 3.38\n"
     ]
    }
   ],
   "source": [
    "a=[1,2,3,4,5,6,4,2]\n",
    "sum=0\n",
    "for i in a:\n",
    "    sum=sum+i\n",
    "b=sum/len(a)\n",
    "c=round(b,2)\n",
    "print(f\"Your mean is {c}\")"
   ]
  },
  {
   "cell_type": "code",
   "execution_count": 2,
   "metadata": {},
   "outputs": [
    {
     "name": "stdout",
     "output_type": "stream",
     "text": [
      "Your max is 8\n"
     ]
    }
   ],
   "source": [
    "l=[1,2,3,4,5,7,8,6]\n",
    "maxx=0\n",
    "for i in l:\n",
    "    if i>maxx:\n",
    "        maxx=i\n",
    "print(f\"Your max is {maxx}\")\n"
   ]
  }
 ],
 "metadata": {
  "kernelspec": {
   "display_name": "Python 3",
   "language": "python",
   "name": "python3"
  },
  "language_info": {
   "codemirror_mode": {
    "name": "ipython",
    "version": 3
   },
   "file_extension": ".py",
   "mimetype": "text/x-python",
   "name": "python",
   "nbconvert_exporter": "python",
   "pygments_lexer": "ipython3",
   "version": "3.11.4"
  },
  "orig_nbformat": 4
 },
 "nbformat": 4,
 "nbformat_minor": 2
}
