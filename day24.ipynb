{
 "cells": [
  {
   "cell_type": "code",
   "execution_count": 1,
   "metadata": {},
   "outputs": [
    {
     "name": "stdout",
     "output_type": "stream",
     "text": [
      "Your mean is 3.38\n"
     ]
    }
   ],
   "source": [
    "a=[1,2,3,4,5,6,4,2]\n",
    "sum=0\n",
    "for i in a:\n",
    "    sum=sum+i\n",
    "b=sum/len(a)\n",
    "c=round(b,2)\n",
    "print(f\"Your mean is {c}\")"
   ]
  },
  {
   "cell_type": "code",
   "execution_count": 6,
   "metadata": {},
   "outputs": [
    {
     "name": "stdout",
     "output_type": "stream",
     "text": [
      "Your max is 8\n",
      "6\n"
     ]
    }
   ],
   "source": [
    "l=[1,2,3,4,5,7,8,6]\n",
    "maxx=0\n",
    "index=0\n",
    "for i in range(0,len(l)):\n",
    "    if l[i]>maxx:\n",
    "        maxx=l[i]\n",
    "        index=i\n",
    "print(f\"Your max is {maxx}\")\n",
    "print(index)"
   ]
  },
  {
   "cell_type": "code",
   "execution_count": 9,
   "metadata": {},
   "outputs": [
    {
     "name": "stdout",
     "output_type": "stream",
     "text": [
      "Your min is 0\n",
      "3\n"
     ]
    }
   ],
   "source": [
    "l=[1,2,3,0,5,7,8,6]\n",
    "mini=l[0]\n",
    "index=0\n",
    "for i in range(0,len(l)):\n",
    "    if l[i]<mini:\n",
    "        mini=l[i]\n",
    "        index=i\n",
    "print(f\"Your min is {mini}\")\n",
    "print(index) "
   ]
  },
  {
   "cell_type": "code",
   "execution_count": 11,
   "metadata": {},
   "outputs": [
    {
     "name": "stdout",
     "output_type": "stream",
     "text": [
      "8 7\n"
     ]
    }
   ],
   "source": [
    "l=[1,2,3,0,5,8,7,3]\n",
    "maxx=0\n",
    "maxx2=0\n",
    "for i in l:\n",
    "    if i>maxx:\n",
    "        maxx2=maxx\n",
    "        maxx=i\n",
    "    elif i<=maxx and maxx2<i:\n",
    "        maxx2=i\n",
    "print(maxx,maxx2) \n"
   ]
  },
  {
   "cell_type": "code",
   "execution_count": null,
   "metadata": {},
   "outputs": [],
   "source": [
    "#Check if list is sorted or not\n",
    "l=[1,2,3,4,5,6,7,8,9]\n",
    "flag=0\n",
    "for i in range(0,len(l)-1):\n",
    "    if l[i]>l[i+1]:\n",
    "        flag=1\n",
    "        break\n",
    "if flag==1:\n",
    "    print(\"Not sorted\")"
   ]
  }
 ],
 "metadata": {
  "kernelspec": {
   "display_name": "Python 3",
   "language": "python",
   "name": "python3"
  },
  "language_info": {
   "codemirror_mode": {
    "name": "ipython",
    "version": 3
   },
   "file_extension": ".py",
   "mimetype": "text/x-python",
   "name": "python",
   "nbconvert_exporter": "python",
   "pygments_lexer": "ipython3",
   "version": "3.11.4"
  },
  "orig_nbformat": 4
 },
 "nbformat": 4,
 "nbformat_minor": 2
}
