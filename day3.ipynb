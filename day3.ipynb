{
 "cells": [
  {
   "cell_type": "code",
   "execution_count": 5,
   "metadata": {},
   "outputs": [
    {
     "name": "stdout",
     "output_type": "stream",
     "text": [
      "a:12\n",
      "a : 12\n",
      "b : 6\n",
      "a : 6\n",
      "b : 12\n"
     ]
    }
   ],
   "source": [
    "#swapping\n",
    "a=12\n",
    "b=6\n",
    "# print(f\"a:{a}\")\n",
    "print(\"a :\",a)\n",
    "print(\"b :\",b)\n",
    "#using 3rd variable\n",
    "# temp=a #12\n",
    "# a=b #6\n",
    "# b=temp #12\n",
    "\n",
    "#without using 3rd variable\n",
    "# a=a+b #18\n",
    "# b=a-b\n",
    "# a=a-b\n",
    "# print(\"a :\",a)\n",
    "# print(\"b :\",b)\n",
    "\n",
    "a,b=b,a\n",
    "print(\"a :\",a)\n",
    "print(\"b :\",b)\n"
   ]
  },
  {
   "cell_type": "code",
   "execution_count": 26,
   "metadata": {},
   "outputs": [
    {
     "name": "stdout",
     "output_type": "stream",
     "text": [
      "? pu \n"
     ]
    }
   ],
   "source": [
    "#String \n",
    "#Sequential(indexing-0) and Non sequential\n",
    "# s=\"\"/''\n",
    "s=\"Hello\\n World\"\n",
    "# s=str(1)\n",
    "# print (type(s))\n",
    "# s='''Hello\n",
    "# there'''\n",
    "s=\"Hello whats up ??\"\n",
    "# name=input(\"Enter your name :\")\n",
    "# # s=\"10\"+\"12\"\n",
    "# print(s)\n",
    "print(s[15:-7:-1])\n",
    "# print(name)\n"
   ]
  },
  {
   "cell_type": "code",
   "execution_count": 28,
   "metadata": {},
   "outputs": [
    {
     "name": "stdout",
     "output_type": "stream",
     "text": [
      "Hell\n",
      "\n"
     ]
    }
   ],
   "source": [
    "#string slicing s[start:end:step]]\n",
    "# print(s[8:15:1])  \n",
    "# print(s[0:4:1])\n",
    "# print(s[13:16:1])\n",
    "# print(s[-5::1])\n",
    "print(s[:4:1])\n",
    "# s = \"Hello, World!\"\n",
    "# s=\"\"\"Hello\n",
    "# whats up\n",
    "# # ??\"\"\"\n",
    "print(s[12:-4:-1])\n",
    "\n",
    "\n",
    "#we can't do update and delete in string but can be overwritten\n",
    "# s=\"hello\"\n",
    "# s=\"Hy\"\n",
    "# s=None\n",
    "# del s\n",
    "# print(s)\n"
   ]
  },
  {
   "cell_type": "code",
   "execution_count": 17,
   "metadata": {},
   "outputs": [
    {
     "name": "stdout",
     "output_type": "stream",
     "text": [
      "aj\n"
     ]
    }
   ],
   "source": [
    "a=\"Pranjal\"\n",
    "print(a[5:3:-1])"
   ]
  }
 ],
 "metadata": {
  "kernelspec": {
   "display_name": "Python 3",
   "language": "python",
   "name": "python3"
  },
  "language_info": {
   "codemirror_mode": {
    "name": "ipython",
    "version": 3
   },
   "file_extension": ".py",
   "mimetype": "text/x-python",
   "name": "python",
   "nbconvert_exporter": "python",
   "pygments_lexer": "ipython3",
   "version": "3.11.3"
  },
  "orig_nbformat": 4
 },
 "nbformat": 4,
 "nbformat_minor": 2
}
