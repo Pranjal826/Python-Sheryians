{
 "cells": [
  {
   "cell_type": "code",
   "execution_count": 2,
   "metadata": {},
   "outputs": [
    {
     "name": "stdout",
     "output_type": "stream",
     "text": [
      "a=>15,b=>12\n"
     ]
    }
   ],
   "source": [
    "#primitve/non-reference/immutable - data can be copied\n",
    "#reference/non-primitive/mutable - data can not be copied\n",
    "#pritive datatypes: int,float,complex,bool,string\n",
    "#reference datatypes: list,tuple,set,dict\n",
    "a=12\n",
    "b=a\n",
    "a=15\n",
    "print(f\"a=>{a},b=>{b}\")"
   ]
  },
  {
   "cell_type": "code",
   "execution_count": null,
   "metadata": {},
   "outputs": [],
   "source": [
    "# primitive/non-reference/immutable - data can be copied\n",
    "# int float bool String None\n",
    "# reference/ non-primitive/ mutable - data can not be copied\n",
    "# List Tuple -> sequential(indexing)\n",
    "# Sets Dict -> non-sequential(keys)\n",
    "\n",
    "# a = 12\n",
    "# b = a\n",
    "# a = 15\n",
    "# print(f\"a -> {a}\")  # 15\n",
    "# print(f\"b -> {b}\")  # 12\n",
    "\n",
    "\n",
    "# creating list\n",
    "# l = []\n",
    "# l = list()\n",
    "# print(type(l))\n",
    "# l = [1, \"john\", True, 12.32,[23,34,54,]]\n",
    "# print(l)\n",
    "\n",
    "\n",
    "# Reading list -> indexing/slicing\n",
    "# l = [21, 34, 56, 78, 90, 98, 67, 56, 54, 32]\n",
    "# print(l)\n",
    "# print(l[2])\n",
    "# print(l[-2])\n",
    "# print(l[3:6:1])\n",
    "# print(l[-3:-6:-1])\n",
    "\n",
    "# updating list\n",
    "# l = [21, 34, 56, 78, 90, 98, 67, 56, 54, 32]\n",
    "# print(l)\n",
    "# l[2] = 69\n",
    "# print(l)\n",
    "\n",
    "# deleting list\n",
    "# l = [21, 34, 56, 78, 90, 98, 67, 56, 54, 32]\n",
    "# print(l)\n",
    "# del l\n",
    "# del l[3]\n",
    "# del l[0:3:2]\n",
    "# print(l)\n"
   ]
  },
  {
   "cell_type": "code",
   "execution_count": 5,
   "metadata": {},
   "outputs": [
    {
     "name": "stdout",
     "output_type": "stream",
     "text": [
      "54\n"
     ]
    }
   ],
   "source": [
    "l = [1, \"john\", True, 12.32,[23,34,54,]]\n",
    "#Accessig l[4][2] using for loop\n"
   ]
  }
 ],
 "metadata": {
  "kernelspec": {
   "display_name": "Python 3",
   "language": "python",
   "name": "python3"
  },
  "language_info": {
   "codemirror_mode": {
    "name": "ipython",
    "version": 3
   },
   "file_extension": ".py",
   "mimetype": "text/x-python",
   "name": "python",
   "nbconvert_exporter": "python",
   "pygments_lexer": "ipython3",
   "version": "3.11.3"
  },
  "orig_nbformat": 4
 },
 "nbformat": 4,
 "nbformat_minor": 2
}
