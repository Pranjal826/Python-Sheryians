{
 "cells": [
  {
   "cell_type": "code",
   "execution_count": 1,
   "metadata": {},
   "outputs": [
    {
     "name": "stdout",
     "output_type": "stream",
     "text": [
      "[1, 2, 3, 4, 5, 6, 7, 8, 9, 10]\n",
      "{1, 2, 3, 4, 5, 6, 7, 8, 9, 10}\n",
      "(1, 2, 3, 4, 5, 6, 7, 8, 9, 10)\n",
      "{1: 'one', 2: 'two', 3: 'three', 4: 'four', 5: 'five', 6: 'six', 7: 'seven', 8: 'eight', 9: 'nine', 10: 'ten'}\n"
     ]
    }
   ],
   "source": [
    "#Data structure in python\n",
    "#List\n",
    "#Tuple\n",
    "#Dictionary\n",
    "#Set\n",
    "a=[1,2,3,4,5,6,7,8,9,10]\n",
    "print(a)\n",
    "a={1,2,3,4,5,6,7,8,9,10}\n",
    "print(a)\n",
    "a=(1,2,3,4,5,6,7,8,9,10)\n",
    "print(a)\n",
    "a={1:\"one\",2:\"two\",3:\"three\",4:\"four\",5:\"five\",6:\"six\",7:\"seven\",8:\"eight\",9:\"nine\",10:\"ten\"}\n",
    "print(a)"
   ]
  },
  {
   "cell_type": "code",
   "execution_count": 5,
   "metadata": {},
   "outputs": [
    {
     "name": "stdout",
     "output_type": "stream",
     "text": [
      "[27, 28, 29]\n",
      "26\n",
      "[27, 28, 100, 29, 45]\n"
     ]
    }
   ],
   "source": [
    "a=[26,27,28,29]\n",
    "b=a.pop(0)\n",
    "print(a)\n",
    "print(b)\n",
    "a=[26,27,28,29,45,67,89]\n",
    "b=a[1:5]\n",
    "b.insert(2,100)\n",
    "print(b)\n"
   ]
  },
  {
   "cell_type": "code",
   "execution_count": 6,
   "metadata": {},
   "outputs": [
    {
     "ename": "TypeError",
     "evalue": "'tuple' object does not support item assignment",
     "output_type": "error",
     "traceback": [
      "\u001b[1;31m---------------------------------------------------------------------------\u001b[0m",
      "\u001b[1;31mTypeError\u001b[0m                                 Traceback (most recent call last)",
      "Cell \u001b[1;32mIn[6], line 3\u001b[0m\n\u001b[0;32m      1\u001b[0m \u001b[39m#Tuple\u001b[39;00m\n\u001b[0;32m      2\u001b[0m a\u001b[39m=\u001b[39m(\u001b[39m1\u001b[39m,\u001b[39m2\u001b[39m,\u001b[39m3\u001b[39m,\u001b[39m4\u001b[39m,\u001b[39m5\u001b[39m,\u001b[39m6\u001b[39m,\u001b[39m7\u001b[39m,\u001b[39m8\u001b[39m,\u001b[39m9\u001b[39m,\u001b[39m10\u001b[39m)\n\u001b[1;32m----> 3\u001b[0m a[\u001b[39m1\u001b[39;49m]\u001b[39m=\u001b[39m\u001b[39m100\u001b[39m\n\u001b[0;32m      4\u001b[0m \u001b[39mprint\u001b[39m(a)\n",
      "\u001b[1;31mTypeError\u001b[0m: 'tuple' object does not support item assignment"
     ]
    }
   ],
   "source": [
    "#Tuple\n",
    "a=(1,2,3,4,5,6,7,8,9,10)\n"
   ]
  },
  {
   "cell_type": "code",
   "execution_count": 8,
   "metadata": {},
   "outputs": [
    {
     "ename": "AttributeError",
     "evalue": "'set' object has no attribute 'insert'",
     "output_type": "error",
     "traceback": [
      "\u001b[1;31m---------------------------------------------------------------------------\u001b[0m",
      "\u001b[1;31mAttributeError\u001b[0m                            Traceback (most recent call last)",
      "Cell \u001b[1;32mIn[8], line 3\u001b[0m\n\u001b[0;32m      1\u001b[0m \u001b[39m#Set\u001b[39;00m\n\u001b[0;32m      2\u001b[0m a\u001b[39m=\u001b[39m{\u001b[39m1\u001b[39m,\u001b[39m2\u001b[39m,\u001b[39m3\u001b[39m,\u001b[39m4\u001b[39m,\u001b[39m5\u001b[39m,\u001b[39m6\u001b[39m,\u001b[39m7\u001b[39m,\u001b[39m8\u001b[39m,\u001b[39m9\u001b[39m,\u001b[39m10\u001b[39m}\n\u001b[1;32m----> 3\u001b[0m a\u001b[39m.\u001b[39;49minsert(\u001b[39m2\u001b[39m,\u001b[39m100\u001b[39m)\n\u001b[0;32m      4\u001b[0m \u001b[39mprint\u001b[39m(a)\n",
      "\u001b[1;31mAttributeError\u001b[0m: 'set' object has no attribute 'insert'"
     ]
    }
   ],
   "source": [
    "#Set\n",
    "a={1,2,3,4,5,6,7,8,9,10}\n",
    "print(a)"
   ]
  },
  {
   "cell_type": "code",
   "execution_count": 16,
   "metadata": {},
   "outputs": [
    {
     "name": "stdout",
     "output_type": "stream",
     "text": [
      "[100, 200, 300, 400, 500, 'hellohellohellohellohellohellohellohellohellohellohellohellohellohellohellohellohellohellohellohellohellohellohellohellohellohellohellohellohellohellohellohellohellohellohellohellohellohellohellohellohellohellohellohellohellohellohellohellohellohellohellohellohellohellohellohellohellohellohellohellohellohellohellohellohellohellohellohellohellohellohellohellohellohellohellohellohellohellohellohellohellohellohellohellohellohellohellohellohellohellohellohellohellohellohellohellohellohellohellohello', 600, 700, 800, 900, 1000]\n",
      "[2, 4, 6, 8, 10]\n"
     ]
    }
   ],
   "source": [
    "l=[1,2,3,4,5,\"hello\",6,7,8,9,10]\n",
    "for i in range(0,len(l)):\n",
    "    l[i]=  l[i]*100\n",
    "print(l)\n",
    "l=[i for i in range(1,11) if i%2==0]\n",
    "print(l)"
   ]
  }
 ],
 "metadata": {
  "kernelspec": {
   "display_name": "Python 3",
   "language": "python",
   "name": "python3"
  },
  "language_info": {
   "codemirror_mode": {
    "name": "ipython",
    "version": 3
   },
   "file_extension": ".py",
   "mimetype": "text/x-python",
   "name": "python",
   "nbconvert_exporter": "python",
   "pygments_lexer": "ipython3",
   "version": "3.11.3"
  },
  "orig_nbformat": 4
 },
 "nbformat": 4,
 "nbformat_minor": 2
}
