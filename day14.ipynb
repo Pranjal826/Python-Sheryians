{
 "cells": [
  {
   "cell_type": "code",
   "execution_count": 6,
   "metadata": {},
   "outputs": [
    {
     "name": "stdout",
     "output_type": "stream",
     "text": [
      "arguments\n",
      "15\n"
     ]
    }
   ],
   "source": [
    "#functions\n",
    "def funcname(parameters):\n",
    "    print(parameters)\n",
    "\n",
    "\n",
    "#calling funtion\n",
    "funcname(\"arguments\")\n",
    "\n",
    "\n",
    "#Create a function which takes two parameters and return the sum of those two parameters\n",
    "def sum(a,b):\n",
    "    return a+b\n",
    "res=sum(2,3)\n",
    "d=3\n",
    "d=d*res\n",
    "print(d)\n"
   ]
  },
  {
   "cell_type": "code",
   "execution_count": 8,
   "metadata": {},
   "outputs": [
    {
     "name": "stdout",
     "output_type": "stream",
     "text": [
      "120\n"
     ]
    }
   ],
   "source": [
    "# Factorial using function\n",
    "# def fact(n):\n",
    "#     if n==0:\n",
    "#         return 1\n",
    "#     return n*fact(n-1)\n",
    "# print(fact(5))\n",
    "\n",
    "def fact(n):\n",
    "    fact=1\n",
    "    for i in range(1,n+1):\n",
    "        fact=fact*i\n",
    "    return fact\n",
    "print(fact(5))"
   ]
  },
  {
   "cell_type": "code",
   "execution_count": 12,
   "metadata": {},
   "outputs": [
    {
     "name": "stdout",
     "output_type": "stream",
     "text": [
      "john example.com \n"
     ]
    }
   ],
   "source": [
    "#Make a function which takes 3 arguments name,email,and batchcode and print it\n",
    "def func(name,email,batchcode=\"P12\"):\n",
    "    print(name,email,batchcode)\n",
    "func(\"john\",\"example.com\",\"\")"
   ]
  }
 ],
 "metadata": {
  "kernelspec": {
   "display_name": "Python 3",
   "language": "python",
   "name": "python3"
  },
  "language_info": {
   "codemirror_mode": {
    "name": "ipython",
    "version": 3
   },
   "file_extension": ".py",
   "mimetype": "text/x-python",
   "name": "python",
   "nbconvert_exporter": "python",
   "pygments_lexer": "ipython3",
   "version": "3.11.3"
  },
  "orig_nbformat": 4
 },
 "nbformat": 4,
 "nbformat_minor": 2
}
