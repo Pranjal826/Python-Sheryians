{
 "cells": [
  {
   "cell_type": "code",
   "execution_count": 10,
   "metadata": {},
   "outputs": [
    {
     "name": "stdout",
     "output_type": "stream",
     "text": [
      "h.e.l.l.o\n"
     ]
    }
   ],
   "source": [
    "s=\" Another day with string \"\n",
    "# strip split join\n",
    "print(s)\n",
    "print(s.strip())\n",
    "s=\".\".join(\"hello\")\n",
    "print(s)\n",
    "print(help(str.join))"
   ]
  },
  {
   "cell_type": "code",
   "execution_count": 11,
   "metadata": {},
   "outputs": [
    {
     "name": "stdout",
     "output_type": "stream",
     "text": [
      "True\n",
      "False\n"
     ]
    }
   ],
   "source": [
    "# in and not in \n",
    "s=\" Another day with string \"\n",
    "print(\"day\" in s)\n",
    "print(\"day\" not in s)\n"
   ]
  },
  {
   "cell_type": "code",
   "execution_count": 20,
   "metadata": {},
   "outputs": [
    {
     "name": "stdout",
     "output_type": "stream",
     "text": [
      "False\n"
     ]
    }
   ],
   "source": [
    "# s=\"0123456789\"\n",
    "# print(s.isdecimal())\n",
    "# s=\"123456789\"\n",
    "# print(s.isnumeric())\n",
    "s=\"XI\"\n",
    "print(s.isnumeric())"
   ]
  },
  {
   "cell_type": "code",
   "execution_count": 26,
   "metadata": {},
   "outputs": [
    {
     "name": "stdout",
     "output_type": "stream",
     "text": [
      "Zero\n"
     ]
    }
   ],
   "source": [
    "#Difference between expression and statment\n",
    "#Expression is a combination of values, variables, operators, and calls to functions. Expressions need to be evaluated.\n",
    "#Statement is a unit of execution that returns nothing. Statements are composed of expressions.\n",
    "# print(1+2)\n",
    "# print(1+2*3)\n",
    "\n",
    "#Simple if\n",
    "n=0\n",
    "# if n>0:\n",
    "#     print(\"Positive\")\n",
    "# if n<0:\n",
    "#     print(\"Negative\")\n",
    "\n",
    "# if n>0:\n",
    "#     print(\"Positive\")\n",
    "# else:\n",
    "#     print(\"Negative\")    \n",
    "\n",
    "\n",
    "# Nested/Multiple/Ladder if else elif\n",
    "n=0\n",
    "if n>0:\n",
    "    print(\"Positive\")\n",
    "elif n<0:\n",
    "    print(\"Negative\")\n",
    "else:\n",
    "    print(\"Zero\")"
   ]
  },
  {
   "cell_type": "code",
   "execution_count": 29,
   "metadata": {},
   "outputs": [
    {
     "name": "stdout",
     "output_type": "stream",
     "text": [
      "Positive\n"
     ]
    }
   ],
   "source": [
    "n=float(input(\"Enter a number: \"))\n",
    "if n>0:\n",
    "    print(\"Positive\")\n",
    "elif n<0:\n",
    "    print(\"Negative\")\n",
    "else:\n",
    "    print(\"Zero\")"
   ]
  },
  {
   "cell_type": "code",
   "execution_count": 30,
   "metadata": {},
   "outputs": [
    {
     "name": "stdout",
     "output_type": "stream",
     "text": [
      "Even Negative\n"
     ]
    }
   ],
   "source": [
    "#even positive and odd positive\n",
    "n=int(input(\"Enter a number: \"))\n",
    "if n>0:\n",
    "    if n%2==0:\n",
    "        print(\"Even Positive\")\n",
    "    else:\n",
    "        print(\"Odd Positive\")\n",
    "elif n<0:\n",
    "    if n%2==0:\n",
    "        print(\"Even Negative\")\n",
    "    else:\n",
    "        print(\"Odd Negative\")"
   ]
  },
  {
   "cell_type": "code",
   "execution_count": null,
   "metadata": {},
   "outputs": [],
   "source": [
    "n=int(input(\"Enter a number: \"))\n",
    "if n>0 and n%2==0:\n",
    "    print(\"Even Positive\")\n",
    "elif n>0 and n%2!=0:\n",
    "    print(\"Odd Positive\")\n",
    "elif n<0 and n%2==0:\n",
    "    print(\"Even Negative\")\n",
    "elif n<0 and n%2!=0:\n",
    "    print(\"Odd Negative\")\n",
    "else:\n",
    "    print(\"Zero\")"
   ]
  }
 ],
 "metadata": {
  "kernelspec": {
   "display_name": "Python 3",
   "language": "python",
   "name": "python3"
  },
  "language_info": {
   "codemirror_mode": {
    "name": "ipython",
    "version": 3
   },
   "file_extension": ".py",
   "mimetype": "text/x-python",
   "name": "python",
   "nbconvert_exporter": "python",
   "pygments_lexer": "ipython3",
   "version": "3.11.3"
  },
  "orig_nbformat": 4
 },
 "nbformat": 4,
 "nbformat_minor": 2
}
