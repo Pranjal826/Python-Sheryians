{
 "cells": [
  {
   "cell_type": "code",
   "execution_count": 30,
   "metadata": {},
   "outputs": [
    {
     "name": "stdout",
     "output_type": "stream",
     "text": [
      "I am a noob noob programmer\n",
      "I Am A Noob Noob Programmer\n",
      "2\n",
      "4\n",
      "i am a noob noob programmer\n",
      "I AM A NOOB NOOB PROGRAMMER\n",
      "I am a noob noob programmer\n"
     ]
    }
   ],
   "source": [
    "s=\"I am a noob noob programmer\"\n",
    "# print(dir(s))\n",
    "# print(help(s.capitalize))\n",
    "a=s.capitalize()\n",
    "print(a)\n",
    "print(s.title())\n",
    "# print(s.count()) --------error\n",
    "print(s.count(\"am\"))\n",
    "print(s.count(\"o\",6,16))\n",
    "print(s.lower())\n",
    "print(s.upper())\n",
    "print(s)"
   ]
  },
  {
   "cell_type": "code",
   "execution_count": 31,
   "metadata": {},
   "outputs": [
    {
     "name": "stdout",
     "output_type": "stream",
     "text": [
      "I am a chutiya chutiya programmer\n",
      "I am a chutiya noob programmer\n"
     ]
    }
   ],
   "source": [
    "print(s.replace(\"noob\",\"chutiya\"))\n",
    "print(s.replace(\"noob\",\"chutiya\",1))"
   ]
  },
  {
   "cell_type": "code",
   "execution_count": 37,
   "metadata": {},
   "outputs": [
    {
     "name": "stdout",
     "output_type": "stream",
     "text": [
      "8\n",
      "22\n"
     ]
    }
   ],
   "source": [
    "print(s.find(\"oo\"))\n",
    "print(s.find(\"am\",12,24))\n",
    "\n",
    "# Question: Difference between find and index ?"
   ]
  },
  {
   "cell_type": "code",
   "execution_count": 50,
   "metadata": {},
   "outputs": [
    {
     "name": "stdout",
     "output_type": "stream",
     "text": [
      "Pranjal\n",
      "        Pranjal      \n",
      "hseslslso\n"
     ]
    }
   ],
   "source": [
    "# 'strip', 'Join', 'split'\n",
    "# print(\"        Hello world        \")\n",
    "# age=int(input(\"Enter your age: \"))\n",
    "s=\"        Pranjal      \"\n",
    "print(s.strip())\n",
    "print(s)\n",
    "# print(s.split())\n",
    "print(\"\".join([\"h\",\"e\",\"l\",\"l\",\"o\"]))\n",
    "# print(age*2)"
   ]
  },
  {
   "cell_type": "code",
   "execution_count": 56,
   "metadata": {},
   "outputs": [
    {
     "name": "stdout",
     "output_type": "stream",
     "text": [
      "True\n",
      "False\n",
      "True\n",
      "True\n"
     ]
    }
   ],
   "source": [
    "s=\"hello\"\n",
    "s=\"1234\"\n",
    "print(s.isalnum())\n",
    "print(s.isalpha())\n",
    "print(s.isnumeric())\n",
    "print(s.isdigit())"
   ]
  }
 ],
 "metadata": {
  "kernelspec": {
   "display_name": "Python 3",
   "language": "python",
   "name": "python3"
  },
  "language_info": {
   "codemirror_mode": {
    "name": "ipython",
    "version": 3
   },
   "file_extension": ".py",
   "mimetype": "text/x-python",
   "name": "python",
   "nbconvert_exporter": "python",
   "pygments_lexer": "ipython3",
   "version": "3.11.3"
  },
  "orig_nbformat": 4
 },
 "nbformat": 4,
 "nbformat_minor": 2
}
