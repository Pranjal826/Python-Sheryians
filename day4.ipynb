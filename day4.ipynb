{
 "cells": [
  {
   "cell_type": "code",
   "execution_count": 6,
   "metadata": {},
   "outputs": [
    {
     "name": "stdout",
     "output_type": "stream",
     "text": [
      "I am a noob noob programmer\n",
      "I Am A Noob Noob Programmer\n"
     ]
    },
    {
     "ename": "TypeError",
     "evalue": "count() takes at least 1 argument (0 given)",
     "output_type": "error",
     "traceback": [
      "\u001b[1;31m---------------------------------------------------------------------------\u001b[0m",
      "\u001b[1;31mTypeError\u001b[0m                                 Traceback (most recent call last)",
      "Cell \u001b[1;32mIn[6], line 9\u001b[0m\n\u001b[0;32m      6\u001b[0m \u001b[39mprint\u001b[39m(s\u001b[39m.\u001b[39mtitle())\n\u001b[0;32m      7\u001b[0m \u001b[39m# print(s.count()) --------error\u001b[39;00m\n\u001b[0;32m      8\u001b[0m \u001b[39m# Count number of letters in a string\u001b[39;00m\n\u001b[1;32m----> 9\u001b[0m \u001b[39mprint\u001b[39m(s\u001b[39m.\u001b[39;49mcount())\n\u001b[0;32m     10\u001b[0m \u001b[39mprint\u001b[39m(s\u001b[39m.\u001b[39mcount(\u001b[39m\"\u001b[39m\u001b[39mam\u001b[39m\u001b[39m\"\u001b[39m))\n\u001b[0;32m     11\u001b[0m \u001b[39mprint\u001b[39m(s\u001b[39m.\u001b[39mcount(\u001b[39m\"\u001b[39m\u001b[39mo\u001b[39m\u001b[39m\"\u001b[39m,\u001b[39m6\u001b[39m,\u001b[39m16\u001b[39m))\n",
      "\u001b[1;31mTypeError\u001b[0m: count() takes at least 1 argument (0 given)"
     ]
    }
   ],
   "source": [
    "s=\"I am a noob noob programmer\"\n",
    "# print(dir(s))\n",
    "# print(help(s.capitalize))\n",
    "a=s.capitalize()\n",
    "print(a)\n",
    "print(s.title())\n",
    "# print(s.count()) --------error\n",
    "# Count number of letters in a string\n",
    "print(s.count(\"am\"))\n",
    "print(s.count(\"o\",6,16))\n",
    "print(s.lower())\n",
    "print(s.upper())\n",
    "print(s)"
   ]
  },
  {
   "cell_type": "code",
   "execution_count": 31,
   "metadata": {},
   "outputs": [
    {
     "name": "stdout",
     "output_type": "stream",
     "text": [
      "I am a chutiya chutiya programmer\n",
      "I am a chutiya noob programmer\n"
     ]
    }
   ],
   "source": [
    "print(s.replace(\"noob\",\"chutiya\"))\n",
    "print(s.replace(\"noob\",\"chutiya\",1))"
   ]
  },
  {
   "cell_type": "code",
   "execution_count": 37,
   "metadata": {},
   "outputs": [
    {
     "name": "stdout",
     "output_type": "stream",
     "text": [
      "8\n",
      "22\n"
     ]
    }
   ],
   "source": [
    "print(s.find(\"oo\"))\n",
    "print(s.find(\"am\",12,24))\n",
    "\n",
    "# Question: Difference between find and index ?"
   ]
  },
  {
   "cell_type": "code",
   "execution_count": 11,
   "metadata": {},
   "outputs": [
    {
     "name": "stdout",
     "output_type": "stream",
     "text": [
      "My name, is,       Pranjal\n",
      " My name, is,       Pranjal      \n",
      "[' My name', ' is', '       Pranjal      ']\n",
      "hseslslso\n"
     ]
    }
   ],
   "source": [
    "# 'strip', 'Join', 'split'\n",
    "# print(\"        Hello world        \")\n",
    "# age=int(input(\"Enter your age: \"))\n",
    "s=\" My name, is,       Pranjal      \"\n",
    "print(s.strip())\n",
    "print(s)\n",
    "print(s.split(\",\"))\n",
    "print(\"\".join([\"h\",\"e\",\"l\",\"l\",\"o\"]))\n",
    "# print(age*2)"
   ]
  },
  {
   "cell_type": "code",
   "execution_count": 56,
   "metadata": {},
   "outputs": [
    {
     "name": "stdout",
     "output_type": "stream",
     "text": [
      "True\n",
      "False\n",
      "True\n",
      "True\n"
     ]
    }
   ],
   "source": [
    "s=\"hello\"\n",
    "s=\"1234\"\n",
    "print(s.isalnum())\n",
    "print(s.isalpha())\n",
    "print(s.isnumeric())\n",
    "print(s.isdigit())"
   ]
  }
 ],
 "metadata": {
  "kernelspec": {
   "display_name": "Python 3",
   "language": "python",
   "name": "python3"
  },
  "language_info": {
   "codemirror_mode": {
    "name": "ipython",
    "version": 3
   },
   "file_extension": ".py",
   "mimetype": "text/x-python",
   "name": "python",
   "nbconvert_exporter": "python",
   "pygments_lexer": "ipython3",
   "version": "3.11.3"
  },
  "orig_nbformat": 4
 },
 "nbformat": 4,
 "nbformat_minor": 2
}
