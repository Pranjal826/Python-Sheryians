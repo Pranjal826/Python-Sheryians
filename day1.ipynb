{
 "cells": [
  {
   "cell_type": "code",
   "execution_count": 14,
   "metadata": {},
   "outputs": [
    {
     "name": "stdout",
     "output_type": "stream",
     "text": [
      "True\n",
      "True\n",
      "144\n",
      "You can vote\n"
     ]
    }
   ],
   "source": [
    "employee_no_1=\"he is good\"\n",
    "employeeNo2=\"he is bad\"\n",
    "EmployeeNo2=\"he is poor\"\n",
    "#numbers=int,float,complex\n",
    "#string=string,char\n",
    "#boolean=true and false\n",
    "# a=12, int\n",
    "a=\"12\"+\"12\"\n",
    "a=12/12\n",
    "a=12//120\n",
    "a=12%4\n",
    "a=12**2\n",
    "#comparision operators\n",
    "# ==,!+,>,<,>=,<=\n",
    "# print(12<45)\n",
    "# print(34==34)\n",
    "print(a)\n",
    "age=18\n",
    "if age>=18:\n",
    "    print(\"You can vote\")\n",
    "else:\n",
    "    print(\"Not eligible\")\n",
    "    "
   ]
  },
  {
   "cell_type": "code",
   "execution_count": null,
   "metadata": {},
   "outputs": [],
   "source": []
  }
 ],
 "metadata": {
  "kernelspec": {
   "display_name": "Python 3",
   "language": "python",
   "name": "python3"
  },
  "language_info": {
   "codemirror_mode": {
    "name": "ipython",
    "version": 3
   },
   "file_extension": ".py",
   "mimetype": "text/x-python",
   "name": "python",
   "nbconvert_exporter": "python",
   "pygments_lexer": "ipython3",
   "version": "3.11.3"
  },
  "orig_nbformat": 4
 },
 "nbformat": 4,
 "nbformat_minor": 2
}
