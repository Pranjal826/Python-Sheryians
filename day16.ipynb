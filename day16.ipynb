{
 "cells": [
  {
   "cell_type": "code",
   "execution_count": 2,
   "metadata": {},
   "outputs": [
    {
     "name": "stdout",
     "output_type": "stream",
     "text": [
      "['rahul', 'Bhopal', 'photography']\n"
     ]
    }
   ],
   "source": [
    "def details(name,address,skill):\n",
    "    return [name,address,skill]\n",
    "#keyword agruments\n",
    "x=details(name=\"rahul\",skill=\"photography\", address=\"Bhopal\")\n",
    "print(x)"
   ]
  },
  {
   "cell_type": "code",
   "execution_count": 7,
   "metadata": {},
   "outputs": [
    {
     "name": "stdout",
     "output_type": "stream",
     "text": [
      "Before calling Anubhav\n",
      "Inside Pranjal\n",
      "After calliing Pranjal\n"
     ]
    }
   ],
   "source": [
    "name=\"Anubhav\" #Global Variable\n",
    "def scope():\n",
    "    global name\n",
    "    #Outside value is read only XXXXX\n",
    "    name=\"Pranjal\" #as u try to manipulate value it creates a new function variable\n",
    "    print(\"Inside\",name)\n",
    "print(\"Before calling\",name)\n",
    "scope()\n",
    "print(\"After calliing\",name)\n"
   ]
  },
  {
   "cell_type": "code",
   "execution_count": 2,
   "metadata": {},
   "outputs": [
    {
     "name": "stdout",
     "output_type": "stream",
     "text": [
      "8\n"
     ]
    }
   ],
   "source": [
    "#Lamda function\n",
    "\n",
    "# function expression->lamda function exp\n",
    "sum=lambda x,y,z=3:x+y+z\n",
    "print(sum(2,3))\n",
    "# variable =lambda params,params,,...: expression"
   ]
  },
  {
   "cell_type": "code",
   "execution_count": 6,
   "metadata": {},
   "outputs": [
    {
     "name": "stdout",
     "output_type": "stream",
     "text": [
      "[7, 12, 34, 35, 56, 65, 88, 97, 98, 100]\n"
     ]
    }
   ],
   "source": [
    "l=[56,98,34,12,65,35,7,88,97,100]\n",
    "l.sort(key=lambda i:i)\n",
    "print(l)"
   ]
  },
  {
   "cell_type": "code",
   "execution_count": 10,
   "metadata": {},
   "outputs": [
    {
     "name": "stdout",
     "output_type": "stream",
     "text": [
      "['__add__', '__class__', '__class_getitem__', '__contains__', '__delattr__', '__delitem__', '__dir__', '__doc__', '__eq__', '__format__', '__ge__', '__getattribute__', '__getitem__', '__getstate__', '__gt__', '__hash__', '__iadd__', '__imul__', '__init__', '__init_subclass__', '__iter__', '__le__', '__len__', '__lt__', '__mul__', '__ne__', '__new__', '__reduce__', '__reduce_ex__', '__repr__', '__reversed__', '__rmul__', '__setattr__', '__setitem__', '__sizeof__', '__str__', '__subclasshook__', 'append', 'clear', 'copy', 'count', 'extend', 'index', 'insert', 'pop', 'remove', 'reverse', 'sort']\n",
      "Help on built-in function insert:\n",
      "\n",
      "insert(index, object, /) method of builtins.list instance\n",
      "    Insert object before index.\n",
      "\n",
      "None\n"
     ]
    }
   ],
   "source": [
    "#list methods\n",
    "l=[1,2,3,4,5,6,7,8,9,10]\n",
    "print(dir(l))\n",
    "print(help(l.insert))"
   ]
  }
 ],
 "metadata": {
  "kernelspec": {
   "display_name": "Python 3",
   "language": "python",
   "name": "python3"
  },
  "language_info": {
   "codemirror_mode": {
    "name": "ipython",
    "version": 3
   },
   "file_extension": ".py",
   "mimetype": "text/x-python",
   "name": "python",
   "nbconvert_exporter": "python",
   "pygments_lexer": "ipython3",
   "version": "3.11.3"
  },
  "orig_nbformat": 4
 },
 "nbformat": 4,
 "nbformat_minor": 2
}
