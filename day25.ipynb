{
 "cells": [
  {
   "cell_type": "code",
   "execution_count": 3,
   "metadata": {},
   "outputs": [
    {
     "name": "stdout",
     "output_type": "stream",
     "text": [
      "Pranjal\n"
     ]
    }
   ],
   "source": [
    "l={69:\"ayush\",\n",
    "   79:\"harsh\",\n",
    "   420:\"Pranjal\"\n",
    "   }\n",
    "print(l[420])"
   ]
  },
  {
   "cell_type": "code",
   "execution_count": 12,
   "metadata": {},
   "outputs": [
    {
     "name": "stdout",
     "output_type": "stream",
     "text": [
      "1:72\n",
      "2:78\n",
      "3:88\n",
      "4:98\n"
     ]
    }
   ],
   "source": [
    "dict1={1:72,\n",
    "       2:78,\n",
    "       3:88,\n",
    "       4:98}\n",
    "dict2={\n",
    "    5:55,\n",
    "    6:66,\n",
    "    7:77,\n",
    "    8:88\n",
    "}\n",
    "# for i in dict1:\n",
    "#     print(f\"{i}:{dict1[i]}\")\n",
    "#merge \n",
    "# dict1.update(dict2)\n",
    "# print(dict1)\n",
    "# using for loop\n",
    "# for key,value in dict2.items():\n",
    "#     dict1[key]=value\n",
    "# print(dict1)\n"
   ]
  },
  {
   "cell_type": "code",
   "execution_count": 2,
   "metadata": {},
   "outputs": [
    {
     "name": "stdout",
     "output_type": "stream",
     "text": [
      "10\n",
      "336\n"
     ]
    }
   ],
   "source": [
    "dict1={\n",
    "    1:72,\n",
    "    2:78,\n",
    "    3:88,\n",
    "    4:98\n",
    "}\n",
    "print(sum(dict1.keys()))\n",
    "print(sum(dict1.values()))"
   ]
  },
  {
   "cell_type": "code",
   "execution_count": 17,
   "metadata": {},
   "outputs": [
    {
     "name": "stdout",
     "output_type": "stream",
     "text": [
      "{0: 4, 1: 3, 2: 5, 3: 6, 4: 7, 5: 1, 6: 9}\n"
     ]
    }
   ],
   "source": [
    "#Convert list to dictionary\n",
    "l=[4,3,5,6,7,1,9]\n",
    "d={}\n",
    "for i in range(len(l)):\n",
    "    d[i]=l[i]\n",
    "print(d)"
   ]
  },
  {
   "cell_type": "code",
   "execution_count": 1,
   "metadata": {},
   "outputs": [
    {
     "name": "stdout",
     "output_type": "stream",
     "text": [
      "{1: 1, 2: 3, 3: 3, 4: 1, 5: 2, 44: 1, 8: 4, 9: 3, 10: 1}\n"
     ]
    }
   ],
   "source": [
    "l=[1,2,3,4,5,5,2,2,3,3,44,8,9,8,8,8,9,9,10]\n",
    "#count frequency\n",
    "d={}\n",
    "for i in l:\n",
    "    if i in d:\n",
    "        d[i]+=1\n",
    "    else:\n",
    "        d[i]=1\n",
    "print(d)"
   ]
  }
 ],
 "metadata": {
  "kernelspec": {
   "display_name": "Python 3",
   "language": "python",
   "name": "python3"
  },
  "language_info": {
   "codemirror_mode": {
    "name": "ipython",
    "version": 3
   },
   "file_extension": ".py",
   "mimetype": "text/x-python",
   "name": "python",
   "nbconvert_exporter": "python",
   "pygments_lexer": "ipython3",
   "version": "3.11.4"
  },
  "orig_nbformat": 4
 },
 "nbformat": 4,
 "nbformat_minor": 2
}
