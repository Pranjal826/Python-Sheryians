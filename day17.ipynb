{
 "cells": [
  {
   "cell_type": "code",
   "execution_count": 3,
   "metadata": {},
   "outputs": [
    {
     "name": "stdout",
     "output_type": "stream",
     "text": [
      "[21, 34, 6, 78, 44, 90, 7, 99]\n",
      "[42, 68, 12, 156, 88, 180, 14, 198]\n"
     ]
    }
   ],
   "source": [
    "# List comprehension\n",
    "l=[21,34,6,78,44,90,7,99]\n",
    "# print(l)\n",
    "\n",
    "#list traversing via list comprehension\n",
    "# variable =[return for i in listname]\n",
    "m=[i*2 for i in l]\n",
    "print(l)\n",
    "print(m)"
   ]
  }
 ],
 "metadata": {
  "kernelspec": {
   "display_name": "Python 3",
   "language": "python",
   "name": "python3"
  },
  "language_info": {
   "codemirror_mode": {
    "name": "ipython",
    "version": 3
   },
   "file_extension": ".py",
   "mimetype": "text/x-python",
   "name": "python",
   "nbconvert_exporter": "python",
   "pygments_lexer": "ipython3",
   "version": "3.11.3"
  },
  "orig_nbformat": 4
 },
 "nbformat": 4,
 "nbformat_minor": 2
}
