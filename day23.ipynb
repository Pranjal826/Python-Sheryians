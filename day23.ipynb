{
 "cells": [
  {
   "cell_type": "code",
   "execution_count": 8,
   "metadata": {},
   "outputs": [
    {
     "name": "stdout",
     "output_type": "stream",
     "text": [
      "0.0\n"
     ]
    }
   ],
   "source": [
    "a=[1,2,3,4,5,6,78,9]\n",
    "def mean(l):\n",
    "    sum=0\n",
    "    for i in a:\n",
    "        sum=sum+i\n",
    "g=sum/len(a)\n",
    "print(g)    "
   ]
  },
  {
   "cell_type": "code",
   "execution_count": 10,
   "metadata": {},
   "outputs": [
    {
     "name": "stdout",
     "output_type": "stream",
     "text": [
      "Your greatest number is 8\n"
     ]
    }
   ],
   "source": [
    "a=[1,2,4,5,6,7,8]\n",
    "maxx=0\n",
    "for i in a:\n",
    "    if i>maxx:\n",
    "        maxx=i\n",
    "print(f\"Your greatest number is {maxx}\")\n"
   ]
  }
 ],
 "metadata": {
  "kernelspec": {
   "display_name": "Python 3",
   "language": "python",
   "name": "python3"
  },
  "language_info": {
   "codemirror_mode": {
    "name": "ipython",
    "version": 3
   },
   "file_extension": ".py",
   "mimetype": "text/x-python",
   "name": "python",
   "nbconvert_exporter": "python",
   "pygments_lexer": "ipython3",
   "version": "3.11.4"
  },
  "orig_nbformat": 4
 },
 "nbformat": 4,
 "nbformat_minor": 2
}
