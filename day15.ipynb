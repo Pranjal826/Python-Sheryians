{
 "cells": [
  {
   "cell_type": "code",
   "execution_count": 2,
   "metadata": {},
   "outputs": [
    {
     "ename": "AttributeError",
     "evalue": "'int' object has no attribute 'append'",
     "output_type": "error",
     "traceback": [
      "\u001b[1;31m---------------------------------------------------------------------------\u001b[0m",
      "\u001b[1;31mAttributeError\u001b[0m                            Traceback (most recent call last)",
      "Cell \u001b[1;32mIn[2], line 4\u001b[0m\n\u001b[0;32m      2\u001b[0m     num\u001b[39m.\u001b[39mappend(number)\n\u001b[0;32m      3\u001b[0m     \u001b[39mprint\u001b[39m(num)\n\u001b[1;32m----> 4\u001b[0m li(\u001b[39m1\u001b[39;49m)\n\u001b[0;32m      5\u001b[0m li(\u001b[39m2\u001b[39m,[\u001b[39m3\u001b[39m,\u001b[39m5\u001b[39m,\u001b[39m6\u001b[39m])\n\u001b[0;32m      6\u001b[0m li(\u001b[39m3\u001b[39m)\n",
      "Cell \u001b[1;32mIn[2], line 2\u001b[0m, in \u001b[0;36mli\u001b[1;34m(num, number)\u001b[0m\n\u001b[0;32m      1\u001b[0m \u001b[39mdef\u001b[39;00m \u001b[39mli\u001b[39m(num,number\u001b[39m=\u001b[39m[]):\n\u001b[1;32m----> 2\u001b[0m     num\u001b[39m.\u001b[39;49mappend(number)\n\u001b[0;32m      3\u001b[0m     \u001b[39mprint\u001b[39m(num)\n",
      "\u001b[1;31mAttributeError\u001b[0m: 'int' object has no attribute 'append'"
     ]
    }
   ],
   "source": [
    "def li(num,number=[]):\n",
    "    number.append(num)\n",
    "    print(number)\n",
    "li(1)\n",
    "li(2,[3,5,6])\n",
    "li(3)\n"
   ]
  },
  {
   "cell_type": "code",
   "execution_count": null,
   "metadata": {},
   "outputs": [],
   "source": []
  },
  {
   "cell_type": "code",
   "execution_count": 9,
   "metadata": {},
   "outputs": [
    {
     "name": "stdout",
     "output_type": "stream",
     "text": [
      "6\n"
     ]
    },
    {
     "ename": "TypeError",
     "evalue": "unsupported operand type(s) for +: 'NoneType' and 'int'",
     "output_type": "error",
     "traceback": [
      "\u001b[1;31m---------------------------------------------------------------------------\u001b[0m",
      "\u001b[1;31mTypeError\u001b[0m                                 Traceback (most recent call last)",
      "Cell \u001b[1;32mIn[9], line 6\u001b[0m\n\u001b[0;32m      4\u001b[0m \u001b[39mdef\u001b[39;00m \u001b[39mhello2\u001b[39m(v,a):\n\u001b[0;32m      5\u001b[0m     \u001b[39mprint\u001b[39m(v\u001b[39m+\u001b[39ma)\n\u001b[1;32m----> 6\u001b[0m hello(hello2(\u001b[39m1\u001b[39;49m,\u001b[39m5\u001b[39;49m),\u001b[39m3\u001b[39;49m) \u001b[39m#Error\u001b[39;00m\n",
      "Cell \u001b[1;32mIn[9], line 2\u001b[0m, in \u001b[0;36mhello\u001b[1;34m(a, c)\u001b[0m\n\u001b[0;32m      1\u001b[0m \u001b[39mdef\u001b[39;00m \u001b[39mhello\u001b[39m(a,c):\n\u001b[1;32m----> 2\u001b[0m     hello2(a,c)\n\u001b[0;32m      3\u001b[0m     \u001b[39mprint\u001b[39m(a()\u001b[39m+\u001b[39mc)\n",
      "Cell \u001b[1;32mIn[9], line 5\u001b[0m, in \u001b[0;36mhello2\u001b[1;34m(v, a)\u001b[0m\n\u001b[0;32m      4\u001b[0m \u001b[39mdef\u001b[39;00m \u001b[39mhello2\u001b[39m(v,a):\n\u001b[1;32m----> 5\u001b[0m     \u001b[39mprint\u001b[39m(v\u001b[39m+\u001b[39;49ma)\n",
      "\u001b[1;31mTypeError\u001b[0m: unsupported operand type(s) for +: 'NoneType' and 'int'"
     ]
    }
   ],
   "source": [
    "# def hello(a,c):\n",
    "#     hello2(a,c)\n",
    "#     print(a()+c)\n",
    "# def hello2(v,a):\n",
    "#     print(v+a)\n",
    "# hello(hello2(1,5),3) #Error"
   ]
  },
  {
   "cell_type": "code",
   "execution_count": 15,
   "metadata": {},
   "outputs": [
    {
     "name": "stdout",
     "output_type": "stream",
     "text": [
      "hello4\n",
      "hello3\n",
      "hello2\n",
      "hello1\n"
     ]
    }
   ],
   "source": [
    "def hello1():\n",
    "    hello2()\n",
    "    print(\"hello1\")\n",
    "  \n",
    "def hello2():\n",
    "    hello3()\n",
    "    print(\"hello2\")\n",
    "    \n",
    "def hello3():\n",
    "    hello4()\n",
    "    print(\"hello3\")\n",
    "def hello4():\n",
    "    print(\"hello4\")\n",
    "hello1()"
   ]
  },
  {
   "cell_type": "code",
   "execution_count": 21,
   "metadata": {},
   "outputs": [
    {
     "name": "stdout",
     "output_type": "stream",
     "text": [
      "7 is Prime\n",
      "8 is not Prime\n",
      "9 is not Prime\n",
      "13 is Prime\n"
     ]
    }
   ],
   "source": [
    "#Program to find number is prime or not\n",
    "def prime(num):\n",
    "    count=0\n",
    "    for i in range(1,num+1):\n",
    "        if num%i==0:\n",
    "            count+=1\n",
    "            \n",
    "    if count==2:\n",
    "        print(f\"{num} is Prime\")\n",
    "    else:\n",
    "        print(f\"{num} is not Prime\")\n",
    "prime(7)\n",
    "prime(8)\n",
    "prime(9)\n",
    "prime(13)"
   ]
  }
 ],
 "metadata": {
  "kernelspec": {
   "display_name": "Python 3",
   "language": "python",
   "name": "python3"
  },
  "language_info": {
   "codemirror_mode": {
    "name": "ipython",
    "version": 3
   },
   "file_extension": ".py",
   "mimetype": "text/x-python",
   "name": "python",
   "nbconvert_exporter": "python",
   "pygments_lexer": "ipython3",
   "version": "3.11.3"
  },
  "orig_nbformat": 4
 },
 "nbformat": 4,
 "nbformat_minor": 2
}
